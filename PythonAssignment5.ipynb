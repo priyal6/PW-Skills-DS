{
 "cells": [
  {
   "cell_type": "markdown",
   "id": "8a678bd0-6dde-45c6-8d33-7b552c4ee369",
   "metadata": {},
   "source": [
    "1.Create a python program to sort the given list of tuples based on integer value using a lambda function. [('Sachin Tendulkar', 34357), ('Ricky Ponting', 27483), ('Jack Kallis', 25534), ('Virat Kohli', 24936)]"
   ]
  },
  {
   "cell_type": "code",
   "execution_count": 3,
   "id": "dcccb77a-d0a1-4695-96e9-7e6afcc2da53",
   "metadata": {},
   "outputs": [
    {
     "name": "stdout",
     "output_type": "stream",
     "text": [
      "[('Sachin Tendulkar', 34357), ('Ricky Ponting', 27483), ('Jack Kallis', 25534), ('Virat Kohli', 24936)]\n"
     ]
    }
   ],
   "source": [
    "players =  [('Sachin Tendulkar', 34357), ('Ricky Ponting', 27483), ('Jack Kallis', 25534), ('Virat Kohli', 24936)]\n",
    " \n",
    "sorted_players = sorted(players, key = lambda x: x[1], reverse = True)\n",
    "print(sorted_players)"
   ]
  },
  {
   "cell_type": "markdown",
   "id": "96cbde07-9d5d-491c-9896-ebedd2fc53c0",
   "metadata": {},
   "source": [
    "Q.2> Write a Python Program to find the squares of all the numbers in the given list of integers using lambda and map functions. [1, 2, 3, 4, 5, 6, 7, 8, 9, 10]"
   ]
  },
  {
   "cell_type": "code",
   "execution_count": 4,
   "id": "7fb541cc-60a4-40ed-a58c-2469435991c4",
   "metadata": {},
   "outputs": [
    {
     "name": "stdout",
     "output_type": "stream",
     "text": [
      "[1, 4, 9, 16, 25, 36, 49, 64, 81, 100]\n"
     ]
    }
   ],
   "source": [
    "numbers = [1,2,3,4,5,6,7,8,9,10]\n",
    "squared_numbers = list(map(lambda x: x**2, numbers))\n",
    "print(squared_numbers)"
   ]
  },
  {
   "cell_type": "markdown",
   "id": "c1674262-88f6-4d20-9e49-201001c25932",
   "metadata": {},
   "source": [
    "Q.3> Write a python program to convert the given list of integers into a tuple of strings. Use map and lambda functions Given String: [1, 2, 3, 4, 5, 6, 7, 8, 9, 10] Expected output: ('1', '2', '3', '4', '5', '6', '7', '8', '9', '10')"
   ]
  },
  {
   "cell_type": "code",
   "execution_count": 6,
   "id": "87128174-ea41-4253-b723-7706e5f41f7b",
   "metadata": {},
   "outputs": [
    {
     "name": "stdout",
     "output_type": "stream",
     "text": [
      "('1', '2', '3', '4', '5', '6', '7', '8', '9', '10')\n"
     ]
    }
   ],
   "source": [
    "numbers = [1,2,3,4,5,6,7,8,9,10]\n",
    "string_numbers = tuple(map(lambda x:str(x),numbers))\n",
    "print(string_numbers)"
   ]
  },
  {
   "cell_type": "markdown",
   "id": "02b3aaa9-eb95-4930-a687-3bc82c516f55",
   "metadata": {},
   "source": [
    "Q.4> Write a python program using reduce function to compute the product of a list containing numbers from 1 to 25."
   ]
  },
  {
   "cell_type": "code",
   "execution_count": 9,
   "id": "2e33f506-2d17-4641-8d4b-e651696aa7bb",
   "metadata": {},
   "outputs": [
    {
     "name": "stdout",
     "output_type": "stream",
     "text": [
      "15511210043330985984000000\n"
     ]
    }
   ],
   "source": [
    "from functools import reduce\n",
    "numbers = range(1,26)\n",
    "product = reduce(lambda x,y:x*y, numbers)\n",
    "print(product)"
   ]
  },
  {
   "cell_type": "markdown",
   "id": "652a0db3-44eb-4ace-bcc8-ad9adc5b6b70",
   "metadata": {},
   "source": [
    "Q.5> Write a python program to filter the numbers in a given list that are divisible by 2 and 3 using the filter function. [2, 3, 6, 9, 27, 60, 90, 120, 55, 46"
   ]
  },
  {
   "cell_type": "code",
   "execution_count": null,
   "id": "e7616284-1982-45cd-a76e-5ca0e11133bb",
   "metadata": {},
   "outputs": [],
   "source": [
    "numbers = []"
   ]
  }
 ],
 "metadata": {
  "kernelspec": {
   "display_name": "Python 3 (ipykernel)",
   "language": "python",
   "name": "python3"
  },
  "language_info": {
   "codemirror_mode": {
    "name": "ipython",
    "version": 3
   },
   "file_extension": ".py",
   "mimetype": "text/x-python",
   "name": "python",
   "nbconvert_exporter": "python",
   "pygments_lexer": "ipython3",
   "version": "3.10.8"
  }
 },
 "nbformat": 4,
 "nbformat_minor": 5
}
