{
 "cells": [
  {
   "cell_type": "markdown",
   "id": "297d07f7-d48d-4b2a-990f-03b72c73806d",
   "metadata": {},
   "source": [
    "1.Which keyword is used to create a function? Create a function to return a list of odd numbers in the range of 1 to 25. Ans> The keyword used to create a function in Python is \"def\". Here's the code to create a function that returns a list of odd numbers in the range of 1 to 25"
   ]
  },
  {
   "cell_type": "code",
   "execution_count": 4,
   "id": "a6383bec-189d-4cb9-9998-d4c0743dc1df",
   "metadata": {},
   "outputs": [
    {
     "data": {
      "text/plain": [
       "[1, 3, 5, 7, 9, 11, 13, 15, 17, 19, 21, 23, 25]"
      ]
     },
     "execution_count": 4,
     "metadata": {},
     "output_type": "execute_result"
    }
   ],
   "source": [
    "def odd_numbers():\n",
    "    odd_list = []\n",
    "    for i in range(1,26):\n",
    "        if i % 2 != 0:\n",
    "            odd_list.append(i)\n",
    "    return odd_list\n",
    "odd_numbers()"
   ]
  },
  {
   "cell_type": "markdown",
   "id": "5222df96-9f05-4702-8a18-b2683c561dfb",
   "metadata": {},
   "source": [
    "2. Why args and kwargs is used in some functions? Create a function each for args and **kwargs to demonstrate their use.\n",
    "args and kwargs are used in functions to allow them to accept a varying number of arguments. *args is used to send a non-keyworded variable length argument list to the function. It allows you to pass a variable number of arguments to a function, which will be received as a tuple. kwargs is used to pass keyworded variable length of arguments to a function, which will be received as a dictionary. Here's an example of how you can use args and *kwargs in a function:"
   ]
  },
  {
   "cell_type": "code",
   "execution_count": 5,
   "id": "96f86020-ffe6-46ea-9d77-5c1ca7b9fac6",
   "metadata": {},
   "outputs": [],
   "source": [
    "def print_args(*args):\n",
    "    print(\"Arguments passed as *args:\",args)\n",
    "def print_kwargs(**kwargs):\n",
    "    print(\"Arguments passed as **kwargs:\", kwargs)"
   ]
  },
  {
   "cell_type": "markdown",
   "id": "a9f93919-15bb-4efb-a24d-97fe532631d3",
   "metadata": {},
   "source": [
    "3.What is an iterator in python? Name the method used to initialise the iterator object and the method used for iteration. Use these methods to print the first five elements of the given list [2, 4, 6, 8, 10, 12, 14, 16, 18, 20].\n",
    "\n",
    "An iterator in Python is an object that implements the iterator protocol, which consists of two methods: iter() and next(). The iter() method is used to initialize the iterator object, and the next() method is used for iteration."
   ]
  },
  {
   "cell_type": "code",
   "execution_count": 4,
   "id": "b387ccee-3170-4383-826f-bceae88926d4",
   "metadata": {},
   "outputs": [
    {
     "name": "stdout",
     "output_type": "stream",
     "text": [
      "The first 5 numbers:\n",
      "2\n",
      "4\n",
      "6\n",
      "8\n",
      "10\n"
     ]
    }
   ],
   "source": [
    "numbers = [2, 4, 6, 8, 10, 12, 14, 16, 18, 20]\n",
    "\n",
    "class TopNumbers:\n",
    "    def __init__(self, limit):\n",
    "        self.limit = limit\n",
    "        self.counter = 0\n",
    "\n",
    "    def __iter__(self):\n",
    "        return self\n",
    "\n",
    "    def __next__(self):\n",
    "        if self.counter < self.limit:\n",
    "            number = numbers[self.counter]\n",
    "            self.counter += 1\n",
    "            return number\n",
    "        else:\n",
    "            raise StopIteration\n",
    "\n",
    "print(\"The first 5 numbers:\")\n",
    "for number in TopNumbers(5):\n",
    "    print(number)"
   ]
  },
  {
   "cell_type": "markdown",
   "id": "0d23307d-a8d1-443c-9249-411414c850ab",
   "metadata": {},
   "source": [
    "4.What is a generator function in python? Why yield keyword is used? Give an example of a generator function. Ans> A generator function in Python is a function that returns a generator iterator. The yield keyword is used to return a value from a generator function and pause the function's execution. When the generator function is called again, it resumes execution from where it left off, using the saved state from the last call to yield."
   ]
  },
  {
   "cell_type": "code",
   "execution_count": 7,
   "id": "d317b38e-4f10-4528-baa5-78f30e51f759",
   "metadata": {},
   "outputs": [
    {
     "name": "stdout",
     "output_type": "stream",
     "text": [
      "Fibonacci sequence:\n",
      "0\n",
      "1\n",
      "1\n",
      "2\n",
      "3\n",
      "5\n",
      "8\n",
      "13\n"
     ]
    }
   ],
   "source": [
    "def fibonacci_sequence(limit):\n",
    "    a,b= 0,1\n",
    "    while a < limit:\n",
    "        yield a\n",
    "        a,b = b , a+b\n",
    "fib = fibonacci_sequence(20)\n",
    "print(\"Fibonacci sequence:\")\n",
    "for number in fib:\n",
    "    print(number)"
   ]
  },
  {
   "cell_type": "code",
   "execution_count": null,
   "id": "f50c1408-0b66-4877-a3ed-1196d3d6ae7e",
   "metadata": {},
   "outputs": [],
   "source": []
  },
  {
   "cell_type": "code",
   "execution_count": 5,
   "id": "e4d8c8b4-7639-42e7-b1bd-7bf36206c688",
   "metadata": {},
   "outputs": [
    {
     "name": "stdout",
     "output_type": "stream",
     "text": [
      "The first 20 prime numbers:\n",
      "2\n",
      "3\n"
     ]
    }
   ],
   "source": [
    "def prime_numbers():\n",
    "    yield 2\n",
    "    primes = [2]\n",
    "    candidate = 3\n",
    "    while candidate < 1000:\n",
    "        is_prime = True\n",
    "        for prime in primes:\n",
    "            if candidate % prime == 0:\n",
    "                is_prime = False\n",
    "                break\n",
    "        if is_prime:\n",
    "            primes.append(candidate)\n",
    "            yield candidate\n",
    "        candidate += 2\n",
    "primes = prime_numbers()\n",
    "\n",
    "print(\"The first 20 prime numbers:\")\n",
    "for i in range(2):\n",
    "    print(next(primes))"
   ]
  },
  {
   "cell_type": "markdown",
   "id": "b20d42c2-1a9e-4742-a905-53a9973180a4",
   "metadata": {},
   "source": [
    "6.Write a python program to print the first 10 Fibonacci numbers using a while looP"
   ]
  },
  {
   "cell_type": "code",
   "execution_count": 6,
   "id": "2c68b8eb-a40d-47da-bd22-5e253fa10894",
   "metadata": {},
   "outputs": [
    {
     "name": "stdout",
     "output_type": "stream",
     "text": [
      "0\n",
      "1\n",
      "1\n",
      "2\n",
      "3\n",
      "5\n",
      "8\n",
      "13\n",
      "21\n",
      "34\n"
     ]
    }
   ],
   "source": [
    "a , b = 0, 1\n",
    "count = 0\n",
    "while count < 10:\n",
    "    print(a)\n",
    "    a, b = b, a+b\n",
    "    count += 1"
   ]
  },
  {
   "cell_type": "markdown",
   "id": "2cf7c02f-cadd-432d-ac6a-b5b7b0b90c92",
   "metadata": {},
   "source": [
    "7.Write a List Comprehension to iterate through the given string: ‘pwskills’. Expected output: ['p', 'w', 's', 'k', 'i', 'l', 'l', 's']"
   ]
  },
  {
   "cell_type": "code",
   "execution_count": 7,
   "id": "a5fec468-1eb0-4378-8405-a5c84cf1e2b1",
   "metadata": {},
   "outputs": [
    {
     "name": "stdout",
     "output_type": "stream",
     "text": [
      "['p', 'w', 's', 'k', 'i', 'l', 'l', 's']\n"
     ]
    }
   ],
   "source": [
    "string = 'pwskills'\n",
    "characters = [char for char in string]\n",
    "print(characters)"
   ]
  },
  {
   "cell_type": "markdown",
   "id": "7240440b-2664-4ab7-bce5-f8f4f37d6a99",
   "metadata": {},
   "source": [
    "8.Write a python program to check whether a given number is Palindrome or not using a while loop."
   ]
  },
  {
   "cell_type": "code",
   "execution_count": 10,
   "id": "c25a930f-e462-4813-99d8-ddfb6c319983",
   "metadata": {},
   "outputs": [
    {
     "name": "stdin",
     "output_type": "stream",
     "text": [
      "Enter a number: 171\n"
     ]
    },
    {
     "name": "stdout",
     "output_type": "stream",
     "text": [
      "171 is a palindrome.\n"
     ]
    }
   ],
   "source": [
    "def is_palindrome(num):\n",
    "    original = num\n",
    "    reverse = 0\n",
    "    while num > 0:\n",
    "        digit = num % 10\n",
    "        reverse = reverse * 10 + digit\n",
    "        num = num // 10\n",
    "    return original == reverse\n",
    "number = int(input(\"Enter a number:\"))\n",
    "if is_palindrome(number):\n",
    "     print(f\"{number} is a palindrome.\")\n",
    "else:\n",
    "    print(f\"{number} is not a palindrome.\")"
   ]
  },
  {
   "cell_type": "code",
   "execution_count": null,
   "id": "3c99a700-44d0-4519-a1de-2c80cfe617a5",
   "metadata": {},
   "outputs": [],
   "source": []
  }
 ],
 "metadata": {
  "kernelspec": {
   "display_name": "Python 3 (ipykernel)",
   "language": "python",
   "name": "python3"
  },
  "language_info": {
   "codemirror_mode": {
    "name": "ipython",
    "version": 3
   },
   "file_extension": ".py",
   "mimetype": "text/x-python",
   "name": "python",
   "nbconvert_exporter": "python",
   "pygments_lexer": "ipython3",
   "version": "3.10.8"
  }
 },
 "nbformat": 4,
 "nbformat_minor": 5
}
